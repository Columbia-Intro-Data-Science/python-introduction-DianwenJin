{
 "cells": [
  {
   "cell_type": "code",
   "execution_count": null,
   "metadata": {
    "collapsed": true
   },
   "outputs": [],
   "source": [
    "# database connection \n",
    "import MySQLdb\n",
    "\n",
    "def connection():\n",
    "    conn = MySQLdb.connect(host=\"jl4939.mysql.pythonanywhere-services.com\",...\n",
    "                           user=\"jl4939\", passwd=\"apma4990\", db=\"jl4939$apma4990\")\n",
    "    c = conn.cursor()\n",
    "\n",
    "    return c, conn"
   ]
  }
 ],
 "metadata": {
  "kernelspec": {
   "display_name": "Python 3",
   "language": "python",
   "name": "python3"
  },
  "language_info": {
   "codemirror_mode": {
    "name": "ipython",
    "version": 3
   },
   "file_extension": ".py",
   "mimetype": "text/x-python",
   "name": "python",
   "nbconvert_exporter": "python",
   "pygments_lexer": "ipython3",
   "version": "3.6.3"
  }
 },
 "nbformat": 4,
 "nbformat_minor": 2
}
