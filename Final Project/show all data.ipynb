{
 "cells": [
  {
   "cell_type": "code",
   "execution_count": null,
   "metadata": {
    "collapsed": true
   },
   "outputs": [],
   "source": [
    "import pandas as pd\n",
    "\n",
    "def Content():\n",
    "    TEST_1 = ['Our group has 4 people.']\n",
    "    return TEST_1\n",
    "\n",
    "def All_data():\n",
    "    df = pd.read_csv('/home/jl4939/mysite/static/data/data_cn_1950.csv', index_col=None)\n",
    "\n",
    "    rank = []\n",
    "    streamer = []\n",
    "    platform = []\n",
    "    category = []\n",
    "    url = []\n",
    "\n",
    "    for i in range(1950):\n",
    "        rank.append(df.loc[i,'排名'])\n",
    "        streamer.append(df.loc[i,'主播'])\n",
    "        platform.append(df.loc[i,'平台'])\n",
    "        category.append(df.loc[i,'类别'])\n",
    "        url.append(df.loc[i,'直播间地址'])\n",
    "\n",
    "    data_matrix = []\n",
    "    data_matrix.append(rank)\n",
    "    data_matrix.append(streamer)\n",
    "    data_matrix.append(platform)\n",
    "    data_matrix.append(category)\n",
    "    data_matrix.append(url)\n",
    "\n",
    "    return data_matrix\n",
    "\n",
    "\n"
   ]
  }
 ],
 "metadata": {
  "kernelspec": {
   "display_name": "Python 3",
   "language": "python",
   "name": "python3"
  },
  "language_info": {
   "codemirror_mode": {
    "name": "ipython",
    "version": 3
   },
   "file_extension": ".py",
   "mimetype": "text/x-python",
   "name": "python",
   "nbconvert_exporter": "python",
   "pygments_lexer": "ipython3",
   "version": "3.6.3"
  }
 },
 "nbformat": 4,
 "nbformat_minor": 2
}
